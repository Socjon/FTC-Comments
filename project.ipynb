{
 "cells": [
  {
   "cell_type": "markdown",
   "metadata": {},
   "source": [
    "## Final Project Submission\n",
    "\n",
    "Please fill out:\n",
    "* Student name: \n",
    "* Student pace: self paced / part time / full time\n",
    "* Scheduled project review date/time: \n",
    "* Instructor name: \n",
    "* Blog post URL:\n"
   ]
  },
  {
   "cell_type": "code",
   "execution_count": null,
   "metadata": {},
   "outputs": [],
   "source": [
    "# Your code here - remember to use markdown cells for comments as well!"
   ]
  },
  {
   "cell_type": "code",
   "execution_count": 1,
   "metadata": {},
   "outputs": [],
   "source": [
    "import pandas as pd\n",
    "import numpy as np"
   ]
  },
  {
   "cell_type": "code",
   "execution_count": 2,
   "metadata": {},
   "outputs": [],
   "source": [
    "df = pd.read_csv('dockets/DOCKET_FDA-2019-N-1482.csv', header=2)"
   ]
  },
  {
   "cell_type": "code",
   "execution_count": 3,
   "metadata": {},
   "outputs": [
    {
     "data": {
      "text/plain": [
       "Index(['Document Title', 'Document Type', 'Attachment Count',\n",
       "       'Submitter Last Name', 'Submitter First Name', 'Organization',\n",
       "       'Document ID', 'Posted Date', 'Received Date', 'Comment Start Date',\n",
       "       'Comment Due Date', 'Implementation Date', 'Effective Date',\n",
       "       'Related RINs', 'Document SubType', 'Subject', 'Abstract', 'Status',\n",
       "       'Source Citation', 'OMB Approval Number', 'FR Citation',\n",
       "       'Federal Register Number', 'Start End Page', 'Special Instructions',\n",
       "       'Legacy ID', 'Post Mark Date', 'File Type', 'Number Of Pages',\n",
       "       'Paper Width', 'Paper Length', 'Exhibit Type', 'Exhibit Location',\n",
       "       'Document Field_1', 'Document Field_2', 'Document Detail'],\n",
       "      dtype='object')"
      ]
     },
     "execution_count": 3,
     "metadata": {},
     "output_type": "execute_result"
    }
   ],
   "source": [
    "df.columns"
   ]
  },
  {
   "cell_type": "code",
   "execution_count": 4,
   "metadata": {},
   "outputs": [
    {
     "data": {
      "text/html": [
       "<div>\n",
       "<style scoped>\n",
       "    .dataframe tbody tr th:only-of-type {\n",
       "        vertical-align: middle;\n",
       "    }\n",
       "\n",
       "    .dataframe tbody tr th {\n",
       "        vertical-align: top;\n",
       "    }\n",
       "\n",
       "    .dataframe thead th {\n",
       "        text-align: right;\n",
       "    }\n",
       "</style>\n",
       "<table border=\"1\" class=\"dataframe\">\n",
       "  <thead>\n",
       "    <tr style=\"text-align: right;\">\n",
       "      <th></th>\n",
       "      <th>Document Title</th>\n",
       "      <th>Document Type</th>\n",
       "      <th>Attachment Count</th>\n",
       "      <th>Submitter Last Name</th>\n",
       "      <th>Submitter First Name</th>\n",
       "      <th>Organization</th>\n",
       "      <th>Document ID</th>\n",
       "      <th>Posted Date</th>\n",
       "      <th>Received Date</th>\n",
       "      <th>Comment Start Date</th>\n",
       "      <th>...</th>\n",
       "      <th>Post Mark Date</th>\n",
       "      <th>File Type</th>\n",
       "      <th>Number Of Pages</th>\n",
       "      <th>Paper Width</th>\n",
       "      <th>Paper Length</th>\n",
       "      <th>Exhibit Type</th>\n",
       "      <th>Exhibit Location</th>\n",
       "      <th>Document Field_1</th>\n",
       "      <th>Document Field_2</th>\n",
       "      <th>Document Detail</th>\n",
       "    </tr>\n",
       "  </thead>\n",
       "  <tbody>\n",
       "    <tr>\n",
       "      <th>0</th>\n",
       "      <td>Comment from Ben Reusser</td>\n",
       "      <td>PUBLIC SUBMISSIONS</td>\n",
       "      <td>NaN</td>\n",
       "      <td>NaN</td>\n",
       "      <td>NaN</td>\n",
       "      <td>NaN</td>\n",
       "      <td>FDA-2019-N-1482-0662</td>\n",
       "      <td>05/21/2019</td>\n",
       "      <td>05/18/2019</td>\n",
       "      <td>NaN</td>\n",
       "      <td>...</td>\n",
       "      <td>NaN</td>\n",
       "      <td>NaN</td>\n",
       "      <td>NaN</td>\n",
       "      <td>NaN</td>\n",
       "      <td>NaN</td>\n",
       "      <td>NaN</td>\n",
       "      <td>NaN</td>\n",
       "      <td>NaN</td>\n",
       "      <td>NaN</td>\n",
       "      <td>https://www.regulations.gov/document?D=FDA-201...</td>\n",
       "    </tr>\n",
       "    <tr>\n",
       "      <th>1</th>\n",
       "      <td>Comment from Ron Littleton</td>\n",
       "      <td>PUBLIC SUBMISSIONS</td>\n",
       "      <td>NaN</td>\n",
       "      <td>NaN</td>\n",
       "      <td>NaN</td>\n",
       "      <td>NaN</td>\n",
       "      <td>FDA-2019-N-1482-0220</td>\n",
       "      <td>04/10/2019</td>\n",
       "      <td>04/07/2019</td>\n",
       "      <td>NaN</td>\n",
       "      <td>...</td>\n",
       "      <td>NaN</td>\n",
       "      <td>NaN</td>\n",
       "      <td>NaN</td>\n",
       "      <td>NaN</td>\n",
       "      <td>NaN</td>\n",
       "      <td>NaN</td>\n",
       "      <td>NaN</td>\n",
       "      <td>NaN</td>\n",
       "      <td>NaN</td>\n",
       "      <td>https://www.regulations.gov/document?D=FDA-201...</td>\n",
       "    </tr>\n",
       "    <tr>\n",
       "      <th>2</th>\n",
       "      <td>Comment from Anonymous</td>\n",
       "      <td>PUBLIC SUBMISSIONS</td>\n",
       "      <td>NaN</td>\n",
       "      <td>NaN</td>\n",
       "      <td>NaN</td>\n",
       "      <td>NaN</td>\n",
       "      <td>FDA-2019-N-1482-0668</td>\n",
       "      <td>05/21/2019</td>\n",
       "      <td>05/18/2019</td>\n",
       "      <td>NaN</td>\n",
       "      <td>...</td>\n",
       "      <td>NaN</td>\n",
       "      <td>NaN</td>\n",
       "      <td>NaN</td>\n",
       "      <td>NaN</td>\n",
       "      <td>NaN</td>\n",
       "      <td>NaN</td>\n",
       "      <td>NaN</td>\n",
       "      <td>NaN</td>\n",
       "      <td>NaN</td>\n",
       "      <td>https://www.regulations.gov/document?D=FDA-201...</td>\n",
       "    </tr>\n",
       "    <tr>\n",
       "      <th>3</th>\n",
       "      <td>Comment from Lance Schroeder</td>\n",
       "      <td>PUBLIC SUBMISSIONS</td>\n",
       "      <td>NaN</td>\n",
       "      <td>NaN</td>\n",
       "      <td>NaN</td>\n",
       "      <td>NaN</td>\n",
       "      <td>FDA-2019-N-1482-1851</td>\n",
       "      <td>06/21/2019</td>\n",
       "      <td>06/18/2019</td>\n",
       "      <td>NaN</td>\n",
       "      <td>...</td>\n",
       "      <td>NaN</td>\n",
       "      <td>NaN</td>\n",
       "      <td>NaN</td>\n",
       "      <td>NaN</td>\n",
       "      <td>NaN</td>\n",
       "      <td>NaN</td>\n",
       "      <td>NaN</td>\n",
       "      <td>NaN</td>\n",
       "      <td>NaN</td>\n",
       "      <td>https://www.regulations.gov/document?D=FDA-201...</td>\n",
       "    </tr>\n",
       "    <tr>\n",
       "      <th>4</th>\n",
       "      <td>Comment from Robert Keller</td>\n",
       "      <td>PUBLIC SUBMISSIONS</td>\n",
       "      <td>NaN</td>\n",
       "      <td>NaN</td>\n",
       "      <td>NaN</td>\n",
       "      <td>NaN</td>\n",
       "      <td>FDA-2019-N-1482-0344</td>\n",
       "      <td>04/11/2019</td>\n",
       "      <td>04/11/2019</td>\n",
       "      <td>NaN</td>\n",
       "      <td>...</td>\n",
       "      <td>NaN</td>\n",
       "      <td>NaN</td>\n",
       "      <td>NaN</td>\n",
       "      <td>NaN</td>\n",
       "      <td>NaN</td>\n",
       "      <td>NaN</td>\n",
       "      <td>NaN</td>\n",
       "      <td>NaN</td>\n",
       "      <td>NaN</td>\n",
       "      <td>https://www.regulations.gov/document?D=FDA-201...</td>\n",
       "    </tr>\n",
       "  </tbody>\n",
       "</table>\n",
       "<p>5 rows × 35 columns</p>\n",
       "</div>"
      ],
      "text/plain": [
       "                 Document Title       Document Type  Attachment Count  \\\n",
       "0      Comment from Ben Reusser  PUBLIC SUBMISSIONS               NaN   \n",
       "1    Comment from Ron Littleton  PUBLIC SUBMISSIONS               NaN   \n",
       "2        Comment from Anonymous  PUBLIC SUBMISSIONS               NaN   \n",
       "3  Comment from Lance Schroeder  PUBLIC SUBMISSIONS               NaN   \n",
       "4    Comment from Robert Keller  PUBLIC SUBMISSIONS               NaN   \n",
       "\n",
       "   Submitter Last Name  Submitter First Name  Organization  \\\n",
       "0                  NaN                   NaN           NaN   \n",
       "1                  NaN                   NaN           NaN   \n",
       "2                  NaN                   NaN           NaN   \n",
       "3                  NaN                   NaN           NaN   \n",
       "4                  NaN                   NaN           NaN   \n",
       "\n",
       "            Document ID Posted Date Received Date Comment Start Date  \\\n",
       "0  FDA-2019-N-1482-0662  05/21/2019    05/18/2019                NaN   \n",
       "1  FDA-2019-N-1482-0220  04/10/2019    04/07/2019                NaN   \n",
       "2  FDA-2019-N-1482-0668  05/21/2019    05/18/2019                NaN   \n",
       "3  FDA-2019-N-1482-1851  06/21/2019    06/18/2019                NaN   \n",
       "4  FDA-2019-N-1482-0344  04/11/2019    04/11/2019                NaN   \n",
       "\n",
       "                         ...                         Post Mark Date  \\\n",
       "0                        ...                                    NaN   \n",
       "1                        ...                                    NaN   \n",
       "2                        ...                                    NaN   \n",
       "3                        ...                                    NaN   \n",
       "4                        ...                                    NaN   \n",
       "\n",
       "   File Type Number Of Pages  Paper Width Paper Length  Exhibit Type  \\\n",
       "0        NaN             NaN          NaN          NaN           NaN   \n",
       "1        NaN             NaN          NaN          NaN           NaN   \n",
       "2        NaN             NaN          NaN          NaN           NaN   \n",
       "3        NaN             NaN          NaN          NaN           NaN   \n",
       "4        NaN             NaN          NaN          NaN           NaN   \n",
       "\n",
       "   Exhibit Location Document Field_1  Document Field_2  \\\n",
       "0               NaN              NaN               NaN   \n",
       "1               NaN              NaN               NaN   \n",
       "2               NaN              NaN               NaN   \n",
       "3               NaN              NaN               NaN   \n",
       "4               NaN              NaN               NaN   \n",
       "\n",
       "                                     Document Detail  \n",
       "0  https://www.regulations.gov/document?D=FDA-201...  \n",
       "1  https://www.regulations.gov/document?D=FDA-201...  \n",
       "2  https://www.regulations.gov/document?D=FDA-201...  \n",
       "3  https://www.regulations.gov/document?D=FDA-201...  \n",
       "4  https://www.regulations.gov/document?D=FDA-201...  \n",
       "\n",
       "[5 rows x 35 columns]"
      ]
     },
     "execution_count": 4,
     "metadata": {},
     "output_type": "execute_result"
    }
   ],
   "source": [
    "df.head()"
   ]
  },
  {
   "cell_type": "code",
   "execution_count": 5,
   "metadata": {},
   "outputs": [],
   "source": [
    "import requests\n",
    "import webbrowser \n",
    "from selenium import webdriver\n",
    "from selenium.webdriver.common.keys import Keys\n",
    "from bs4 import BeautifulSoup\n",
    "import time\n",
    "import re"
   ]
  },
  {
   "cell_type": "code",
   "execution_count": 6,
   "metadata": {},
   "outputs": [
    {
     "data": {
      "text/plain": [
       "0    https://www.regulations.gov/document?D=FDA-201...\n",
       "1    https://www.regulations.gov/document?D=FDA-201...\n",
       "2    https://www.regulations.gov/document?D=FDA-201...\n",
       "Name: Document Detail, dtype: object"
      ]
     },
     "execution_count": 6,
     "metadata": {},
     "output_type": "execute_result"
    }
   ],
   "source": [
    "trial = df['Document Detail'][:3]\n",
    "trial"
   ]
  },
  {
   "cell_type": "code",
   "execution_count": 7,
   "metadata": {},
   "outputs": [
    {
     "data": {
      "text/plain": [
       "'https://www.regulations.gov/document?D=FDA-2019-N-1482-0662'"
      ]
     },
     "execution_count": 7,
     "metadata": {},
     "output_type": "execute_result"
    }
   ],
   "source": [
    "trial[0]"
   ]
  },
  {
   "cell_type": "code",
   "execution_count": 8,
   "metadata": {},
   "outputs": [
    {
     "data": {
      "text/plain": [
       "'https://www.regulations.gov/document?D=FDA-2019-N-1482-0220'"
      ]
     },
     "execution_count": 8,
     "metadata": {},
     "output_type": "execute_result"
    }
   ],
   "source": [
    "trial[1]"
   ]
  },
  {
   "cell_type": "markdown",
   "metadata": {},
   "source": [
    "https://scrapoxy.io/ For the rotating proxies for Scrapy\n",
    "\n",
    "Too complicated to work"
   ]
  },
  {
   "cell_type": "code",
   "execution_count": null,
   "metadata": {},
   "outputs": [],
   "source": [
    "from lxml.html import fromstring\n",
    "import requests\n",
    "from itertools import cycle\n",
    "import traceback\n",
    "\n",
    "def get_proxies():\n",
    "    url = 'https://free-proxy-list.net/'\n",
    "    response = requests.get(url)\n",
    "    parser = fromstring(response.text)\n",
    "    proxies = set()\n",
    "    for i in parser.xpath('//tbody/tr')[:10]:\n",
    "        if i.xpath('.//td[7][contains(text(),\"yes\")]'):                     #HTTP check\n",
    "            #if i.xpath('.//td[5][contains(text(),\"elite proxy\")]'):         #Elite check\n",
    "            \n",
    "            proxy = \":\".join([i.xpath('.//td[1]/text()')[0], i.xpath('.//td[2]/text()')[0]])  #Grabbing IP and corresponding PORT\n",
    "            proxies.add(proxy)\n",
    "    return proxies"
   ]
  },
  {
   "cell_type": "markdown",
   "metadata": {},
   "source": [
    "/html/body/section[1]/div/div[2]/div/div[2]/div/table/tbody/tr[1]/td[5]"
   ]
  },
  {
   "cell_type": "code",
   "execution_count": null,
   "metadata": {},
   "outputs": [],
   "source": [
    "proxies = get_proxies()\n",
    "proxy_pool = cycle(proxies)"
   ]
  },
  {
   "cell_type": "code",
   "execution_count": null,
   "metadata": {},
   "outputs": [],
   "source": [
    "proxies"
   ]
  },
  {
   "cell_type": "code",
   "execution_count": null,
   "metadata": {},
   "outputs": [],
   "source": [
    "url = 'https://httpbin.org/ip'\n",
    "good_proxy = []\n",
    "for i in range(1,11):\n",
    "    #Get a proxy from the pool\n",
    "    proxy = next(proxy_pool)\n",
    "    print(\"Request #%d\"%i)\n",
    "    try:\n",
    "        response = requests.get(url,proxies={\"http\": proxy, \"https\": proxy})\n",
    "        print(response.json())\n",
    "        good_proxy.append(proxy)\n",
    "    except:\n",
    "        #Most free proxies will often get connection errors. You will have retry the entire request using another proxy to work. \n",
    "        #We will just skip retries as its beyond the scope of this tutorial and we are only downloading a single url \n",
    "        print(\"Skipping. Connnection error\")"
   ]
  },
  {
   "cell_type": "raw",
   "metadata": {},
   "source": [
    "https://github.com/SeleniumHQ/selenium/wiki/DesiredCapabilities#proxy-json-object\n",
    "\n",
    "https://github.com/timgrossmann/InstaPy/issues/4424 Had to downgrade the driver"
   ]
  },
  {
   "cell_type": "code",
   "execution_count": null,
   "metadata": {},
   "outputs": [],
   "source": [
    "good_proxy"
   ]
  },
  {
   "cell_type": "code",
   "execution_count": null,
   "metadata": {},
   "outputs": [],
   "source": [
    "from selenium import webdriver\n",
    "from selenium.webdriver.common.proxy import Proxy, ProxyType\n",
    "\n",
    "proxies = list(proxies) #Turns set into list\n",
    "\n",
    "\n",
    "prox = Proxy()\n",
    "prox.proxy_type = ProxyType.MANUAL\n",
    "prox.http_proxy = proxies[0]\n",
    "prox.socks_proxy = proxies[0]\n",
    "prox.ssl_proxy = proxies[0]\n",
    "\n",
    "capabilities = webdriver.DesiredCapabilities.CHROME\n",
    "prox.add_to_capabilities(capabilities)\n",
    "\n",
    "driver = webdriver.Chrome(desired_capabilities=capabilities)"
   ]
  },
  {
   "cell_type": "code",
   "execution_count": null,
   "metadata": {},
   "outputs": [],
   "source": [
    "import os\n",
    "\n",
    "chromedriver = '/home/socjon/DS/FTC-Comments/chromedriver'   #Had to specify the entire PATH\n",
    "os.environ[\"webdriver.chrome.driver\"] = chromedriver\n",
    "\n",
    "driver = webdriver.Chrome(chromedriver)\n",
    "driver.implicitly_wait(30)\n",
    "comments = []\n",
    "for url in df['Document Detail']:\n",
    "    driver.get(url)\n",
    "    time.sleep(1) #gives time for the page to load.\n",
    "    soup_level1 = BeautifulSoup(driver.page_source)\n",
    "    huh = soup_level1.find('div', class_=\"GIY1LSJIXD\")\n",
    "    comments.append(huh)"
   ]
  },
  {
   "cell_type": "code",
   "execution_count": null,
   "metadata": {},
   "outputs": [],
   "source": [
    "len(comments)"
   ]
  },
  {
   "cell_type": "code",
   "execution_count": null,
   "metadata": {},
   "outputs": [],
   "source": [
    "\n",
    "\n",
    "chrome_options = Options()\n",
    "chrome_options.add_argument('--dns-prefetch-disable')\n",
    "driver = Chrome(chrome_options=chrome_options)"
   ]
  },
  {
   "cell_type": "markdown",
   "metadata": {},
   "source": [
    "Timed out. Since I was using one session, I have to either restate"
   ]
  },
  {
   "cell_type": "code",
   "execution_count": 13,
   "metadata": {},
   "outputs": [
    {
     "data": {
      "text/plain": [
       "2"
      ]
     },
     "execution_count": 13,
     "metadata": {},
     "output_type": "execute_result"
    }
   ],
   "source": [
    "\n",
    "huh += 1\n",
    "huh"
   ]
  },
  {
   "cell_type": "code",
   "execution_count": 13,
   "metadata": {},
   "outputs": [
    {
     "name": "stderr",
     "output_type": "stream",
     "text": [
      "/home/socjon/anaconda3/lib/python3.6/site-packages/ipykernel_launcher.py:12: DeprecationWarning: use options instead of chrome_options\n",
      "  if sys.path[0] == '':\n",
      "/home/socjon/anaconda3/lib/python3.6/site-packages/ipykernel_launcher.py:25: DeprecationWarning: use options instead of chrome_options\n"
     ]
    }
   ],
   "source": [
    "import os\n",
    "from selenium.webdriver.chrome.options import Options\n",
    "\n",
    "counter = 0\n",
    "comments = []\n",
    "\n",
    "\n",
    "chromedriver = '/home/socjon/DS/FTC-Comments/chromedriver'   #Had to specify the entire PATH\n",
    "os.environ[\"webdriver.chrome.driver\"] = chromedriver\n",
    "chrome_options = Options()\n",
    "chrome_options.add_argument('--dns-prefetch-disable')\n",
    "driver = webdriver.Chrome(chromedriver, chrome_options=chrome_options)\n",
    "driver.implicitly_wait(30)\n",
    "\n",
    "\n",
    "\n",
    "for url in df['Document Detail']:\n",
    "    if (counter % 100) == 0: \n",
    "        driver.quit()\n",
    "        \n",
    "        chromedriver = '/home/socjon/DS/FTC-Comments/chromedriver'   #Had to specify the entire PATH\n",
    "        os.environ[\"webdriver.chrome.driver\"] = chromedriver\n",
    "        chrome_options = Options()\n",
    "        chrome_options.add_argument('--dns-prefetch-disable')\n",
    "        driver = webdriver.Chrome(chromedriver, chrome_options=chrome_options)\n",
    "        driver.implicitly_wait(30)\n",
    "\n",
    "    \n",
    "    driver.get(url)\n",
    "    time.sleep(1) #gives time for the page to load.\n",
    "    soup_level1 = BeautifulSoup(driver.page_source)\n",
    "    huh = soup_level1.find('div', class_=\"GIY1LSJIXD\")\n",
    "    comments.append(huh)\n",
    "    counter += 1"
   ]
  },
  {
   "cell_type": "code",
   "execution_count": 14,
   "metadata": {},
   "outputs": [
    {
     "data": {
      "text/plain": [
       "2070"
      ]
     },
     "execution_count": 14,
     "metadata": {},
     "output_type": "execute_result"
    }
   ],
   "source": [
    "len(comments)"
   ]
  },
  {
   "cell_type": "code",
   "execution_count": 19,
   "metadata": {},
   "outputs": [
    {
     "ename": "RecursionError",
     "evalue": "maximum recursion depth exceeded",
     "output_type": "error",
     "traceback": [
      "\u001b[0;31m---------------------------------------------------------------------------\u001b[0m",
      "\u001b[0;31mRecursionError\u001b[0m                            Traceback (most recent call last)",
      "\u001b[0;32m<ipython-input-19-78d633956d6b>\u001b[0m in \u001b[0;36m<module>\u001b[0;34m()\u001b[0m\n\u001b[1;32m      2\u001b[0m \u001b[0;34m\u001b[0m\u001b[0m\n\u001b[1;32m      3\u001b[0m \u001b[0;32mwith\u001b[0m \u001b[0mopen\u001b[0m\u001b[0;34m(\u001b[0m\u001b[0;34m'outfile'\u001b[0m\u001b[0;34m,\u001b[0m \u001b[0;34m'wb'\u001b[0m\u001b[0;34m)\u001b[0m \u001b[0;32mas\u001b[0m \u001b[0mfp\u001b[0m\u001b[0;34m:\u001b[0m\u001b[0;34m\u001b[0m\u001b[0;34m\u001b[0m\u001b[0m\n\u001b[0;32m----> 4\u001b[0;31m     \u001b[0mpickle\u001b[0m\u001b[0;34m.\u001b[0m\u001b[0mdump\u001b[0m\u001b[0;34m(\u001b[0m\u001b[0mcomments\u001b[0m\u001b[0;34m,\u001b[0m \u001b[0mfp\u001b[0m\u001b[0;34m)\u001b[0m\u001b[0;34m\u001b[0m\u001b[0;34m\u001b[0m\u001b[0m\n\u001b[0m",
      "\u001b[0;31mRecursionError\u001b[0m: maximum recursion depth exceeded"
     ]
    }
   ],
   "source": [
    "import pickle\n",
    "\n",
    "with open('outfile', 'wb') as fp:\n",
    "    pickle.dump(comments, fp)"
   ]
  },
  {
   "cell_type": "code",
   "execution_count": null,
   "metadata": {},
   "outputs": [],
   "source": [
    "from selenium import webdriver\n",
    "from selenium.webdriver.common.proxy import Proxy, ProxyType\n",
    "\n",
    "try:\n",
    "    for url in df['Document Detail']:\n",
    "\n",
    "        for proxy in good_proxy:\n",
    "\n",
    "            prox = Proxy()\n",
    "            prox.proxy_type = ProxyType.MANUAL\n",
    "            prox.http_proxy = proxy\n",
    "            prox.socks_proxy = proxy\n",
    "            prox.ssl_proxy = proxy\n",
    "\n",
    "            capabilities = webdriver.DesiredCapabilities.CHROME\n",
    "            prox.add_to_capabilities(capabilities)\n",
    "\n",
    "            driver = webdriver.Chrome(desired_capabilities=capabilities)\n",
    "            driver.implicitly_wait(30)\n",
    "            comments = []\n",
    "\n",
    "            driver.get(url)\n",
    "            time.sleep(1) #gives time for the page to load.\n",
    "            soup_level1 = BeautifulSoup(driver.page_source)\n",
    "            huh = soup_level1.find('div', class_=\"GIY1LSJIXD\")\n",
    "            comments.append(huh)\n",
    "            break\n",
    "except:\n",
    "    print(\"Huh\")"
   ]
  },
  {
   "cell_type": "code",
   "execution_count": null,
   "metadata": {},
   "outputs": [],
   "source": [
    "\n",
    "for i in list(range(1,11)):\n",
    "    for g in list(range(1,11)):\n",
    "        try:\n",
    "            \n",
    "        else:\n",
    "            pass"
   ]
  },
  {
   "cell_type": "code",
   "execution_count": null,
   "metadata": {},
   "outputs": [],
   "source": [
    "driver = webdriver.Chrome()\n",
    "driver.implicitly_wait(30)\n",
    "comments = []\n",
    "\n",
    "    driver.get(url)\n",
    "    time.sleep(1) #gives time for the page to load.\n",
    "    soup_level1 = BeautifulSoup(driver.page_source)\n",
    "    huh = soup_level1.find('div', class_=\"GIY1LSJIXD\")\n",
    "    comments.append(huh)"
   ]
  },
  {
   "cell_type": "code",
   "execution_count": null,
   "metadata": {},
   "outputs": [],
   "source": [
    "len(comments)"
   ]
  },
  {
   "cell_type": "markdown",
   "metadata": {},
   "source": [
    "## Cleaning"
   ]
  },
  {
   "cell_type": "code",
   "execution_count": null,
   "metadata": {},
   "outputs": [],
   "source": [
    "pattern = re.compile(r\"(?<=\\\"\\\"\\>).*?(?=\\<\\/div>)\")"
   ]
  },
  {
   "cell_type": "code",
   "execution_count": null,
   "metadata": {},
   "outputs": [],
   "source": [
    "pattern.findall(str(comments[1]))"
   ]
  },
  {
   "cell_type": "markdown",
   "metadata": {},
   "source": [
    "**BAM!**"
   ]
  },
  {
   "cell_type": "code",
   "execution_count": null,
   "metadata": {},
   "outputs": [],
   "source": [
    "wait_time = 1/60\n",
    "num_comments = 100000 #100K\n",
    "\n",
    "time_it_will_take_in_hours = wait_time*num_comments"
   ]
  },
  {
   "cell_type": "code",
   "execution_count": null,
   "metadata": {},
   "outputs": [],
   "source": [
    "soup_level1=BeautifulSoup(driver.page_source)"
   ]
  },
  {
   "cell_type": "code",
   "execution_count": null,
   "metadata": {},
   "outputs": [],
   "source": [
    "huh = soup_level1.find('div', class_=\"GIY1LSJIXD\")\n",
    "huh"
   ]
  },
  {
   "cell_type": "code",
   "execution_count": null,
   "metadata": {},
   "outputs": [],
   "source": []
  },
  {
   "cell_type": "code",
   "execution_count": null,
   "metadata": {},
   "outputs": [],
   "source": []
  },
  {
   "cell_type": "code",
   "execution_count": null,
   "metadata": {},
   "outputs": [],
   "source": []
  },
  {
   "cell_type": "code",
   "execution_count": null,
   "metadata": {},
   "outputs": [],
   "source": [
    "post_feed = source.find('div', class_=\"\")"
   ]
  },
  {
   "cell_type": "code",
   "execution_count": null,
   "metadata": {},
   "outputs": [],
   "source": [
    "url = requests.get(df['Document Detail'][1])\n",
    "browser  = webdriver.Chrome(executable_path='chromedriver.exe')\n",
    "\n",
    "browser.implicitly_wait(30)\n",
    "browser.get(url)\n"
   ]
  },
  {
   "cell_type": "code",
   "execution_count": null,
   "metadata": {},
   "outputs": [],
   "source": []
  },
  {
   "cell_type": "code",
   "execution_count": null,
   "metadata": {},
   "outputs": [],
   "source": []
  },
  {
   "cell_type": "code",
   "execution_count": null,
   "metadata": {},
   "outputs": [],
   "source": []
  }
 ],
 "metadata": {
  "kernelspec": {
   "display_name": "Python 3",
   "language": "python",
   "name": "python3"
  },
  "language_info": {
   "codemirror_mode": {
    "name": "ipython",
    "version": 3
   },
   "file_extension": ".py",
   "mimetype": "text/x-python",
   "name": "python",
   "nbconvert_exporter": "python",
   "pygments_lexer": "ipython3",
   "version": "3.6.8"
  }
 },
 "nbformat": 4,
 "nbformat_minor": 2
}
